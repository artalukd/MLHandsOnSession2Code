{
 "cells": [
  {
   "cell_type": "markdown",
   "metadata": {
    "nbpresent": {
     "id": "a96ca04a-864e-48f0-98de-5b7450b55de5"
    }
   },
   "source": [
    "# Building a simple Neural network based classifier for MNIST"
   ]
  },
  {
   "cell_type": "code",
   "execution_count": 1,
   "metadata": {
    "collapsed": false,
    "nbpresent": {
     "id": "c770c081-2b75-40b4-a249-f3c082afe3d6"
    }
   },
   "outputs": [],
   "source": [
    "import tensorflow as tf"
   ]
  },
  {
   "cell_type": "markdown",
   "metadata": {
    "nbpresent": {
     "id": "50f25c85-3570-4c80-9245-d3d4d15b4bc4"
    }
   },
   "source": [
    "<h1>Data from Files</h1>"
   ]
  },
  {
   "cell_type": "code",
   "execution_count": 2,
   "metadata": {
    "collapsed": false,
    "nbpresent": {
     "id": "cf6dea09-acc1-4ea7-b651-d4039c919544"
    }
   },
   "outputs": [
    {
     "name": "stdout",
     "output_type": "stream",
     "text": [
      "Extracting MNIST_data/train-images-idx3-ubyte.gz\n",
      "Extracting MNIST_data/train-labels-idx1-ubyte.gz\n",
      "Extracting MNIST_data/t10k-images-idx3-ubyte.gz\n",
      "Extracting MNIST_data/t10k-labels-idx1-ubyte.gz\n"
     ]
    }
   ],
   "source": [
    "from tensorflow.examples.tutorials.mnist import input_data\n",
    "mnist = input_data.read_data_sets(\"MNIST_data/\", one_hot=True)"
   ]
  },
  {
   "cell_type": "code",
   "execution_count": 4,
   "metadata": {
    "collapsed": true,
    "nbpresent": {
     "id": "71e1b38c-d6b4-4b42-9196-8e9fe3a7ebd3"
    }
   },
   "outputs": [],
   "source": [
    "x = tf.placeholder(tf.float32, [None, 784])"
   ]
  },
  {
   "cell_type": "markdown",
   "metadata": {
    "nbpresent": {
     "id": "d360bf4c-f791-4fae-8983-647ddf29fc98"
    }
   },
   "source": [
    "We want to be able to input any number of MNIST images, each flattened into a 784-dimensional vector. <br>We represent this as a 2-D tensor of floating-point numbers, with a shape [None, 784]. <br>(Here None means that a dimension can be of any length.)"
   ]
  },
  {
   "cell_type": "code",
   "execution_count": 3,
   "metadata": {
    "collapsed": true,
    "nbpresent": {
     "id": "67c4d87c-6471-497f-867d-897508a18b33"
    }
   },
   "outputs": [],
   "source": [
    "W = tf.Variable(tf.zeros([784, 10]))\n",
    "b = tf.Variable(tf.zeros([10]))\n"
   ]
  },
  {
   "cell_type": "markdown",
   "metadata": {
    "nbpresent": {
     "id": "a345cb30-efd1-42a8-ac6c-0aad3e5701ea"
    }
   },
   "source": [
    "We create these Variables by giving tf. Variable the initial value of the Variable: in this case, we initialize both W and b as tensors full of zeros. Since we are going to learn W and b, it doesn't matter very much what they initially are.<br>\n",
    "Note that W has a shape of [784, 10] because we want to multiply the 784-dimensional image vectors by it to produce 10-dimensional vectors of evidence for the difference classes. b has a shape of [10] so we can add it to the output."
   ]
  },
  {
   "cell_type": "code",
   "execution_count": 5,
   "metadata": {
    "collapsed": true,
    "nbpresent": {
     "id": "7d3f9080-ab42-46f5-8032-1fbcd5f7e743"
    }
   },
   "outputs": [],
   "source": [
    "y = tf.nn.softmax(tf.matmul(x, W) + b)"
   ]
  },
  {
   "cell_type": "markdown",
   "metadata": {
    "nbpresent": {
     "id": "b7253a69-fcd2-4be7-a639-58136f918e8d"
    }
   },
   "source": [
    "<img src=\"https://www.tensorflow.org/images/softmax-regression-scalargraph.png\" style = \"height=20vh; width=20vw;\"> <img>"
   ]
  },
  {
   "cell_type": "code",
   "execution_count": 6,
   "metadata": {
    "collapsed": false,
    "nbpresent": {
     "id": "8a6598ba-27a9-49e7-b55d-7850cfdae3cc"
    }
   },
   "outputs": [],
   "source": [
    "y_ = tf.placeholder(tf.float32, [None, 10])"
   ]
  },
  {
   "cell_type": "code",
   "execution_count": 7,
   "metadata": {
    "collapsed": true,
    "nbpresent": {
     "id": "5e29e9fb-53ac-4deb-9245-3f0c1a70ee08"
    }
   },
   "outputs": [],
   "source": [
    "cross_entropy = tf.reduce_mean(-tf.reduce_sum(y_ * tf.log(y), reduction_indices=[1]))"
   ]
  },
  {
   "cell_type": "code",
   "execution_count": 9,
   "metadata": {
    "collapsed": true,
    "nbpresent": {
     "id": "1f206eab-cd60-43e9-a368-a7cc97b35b85"
    }
   },
   "outputs": [],
   "source": [
    "train_step = tf.train.GradientDescentOptimizer(0.5).minimize(cross_entropy)"
   ]
  },
  {
   "cell_type": "markdown",
   "metadata": {},
   "source": [
    "Now we initialize the variables and create a session instance"
   ]
  },
  {
   "cell_type": "code",
   "execution_count": 8,
   "metadata": {
    "collapsed": true,
    "nbpresent": {
     "id": "c631bc59-11b0-4ed2-a17a-92257e5025b3"
    }
   },
   "outputs": [],
   "source": [
    "sess = tf.InteractiveSession()"
   ]
  },
  {
   "cell_type": "code",
   "execution_count": 10,
   "metadata": {
    "collapsed": true
   },
   "outputs": [],
   "source": [
    "tf.global_variables_initializer().run()"
   ]
  },
  {
   "cell_type": "markdown",
   "metadata": {},
   "source": [
    "We train the model "
   ]
  },
  {
   "cell_type": "code",
   "execution_count": 11,
   "metadata": {
    "collapsed": true
   },
   "outputs": [],
   "source": [
    "num_iter = 1000\n",
    "batch_size = 1000"
   ]
  },
  {
   "cell_type": "code",
   "execution_count": 12,
   "metadata": {
    "collapsed": false,
    "nbpresent": {
     "id": "0e06ec02-7c59-41c0-bdf4-781ce8d222b4"
    }
   },
   "outputs": [],
   "source": [
    "for _ in range(num_iter):\n",
    "  batch_xs, batch_ys = mnist.train.next_batch(batch_size)\n",
    "  sess.run(train_step, feed_dict={x: batch_xs, y_: batch_ys})"
   ]
  },
  {
   "cell_type": "markdown",
   "metadata": {
    "nbpresent": {
     "id": "09fd18ff-489f-429b-a7d1-d84485b31d70"
    }
   },
   "source": [
    "## Evaluating Model"
   ]
  },
  {
   "cell_type": "code",
   "execution_count": 14,
   "metadata": {
    "collapsed": true,
    "nbpresent": {
     "id": "7480bb8d-1d1a-4f8a-9659-11a8f3be1b1f"
    }
   },
   "outputs": [],
   "source": [
    "correct_prediction = tf.equal(tf.argmax(y,1), tf.argmax(y_,1))"
   ]
  },
  {
   "cell_type": "markdown",
   "metadata": {},
   "source": [
    "tf.argmax is an extremely useful function which gives you the index of the highest entry in a tensor along some axis. For example, tf.argmax(y,1) is the label our model thinks is most likely for each input, while tf.argmax(y_,1) is the correct label. We can use tf.equal to check if our prediction matches the truth."
   ]
  },
  {
   "cell_type": "code",
   "execution_count": 15,
   "metadata": {
    "collapsed": true,
    "nbpresent": {
     "id": "71d8d4fd-774b-406c-9236-b75b4c526fe3"
    }
   },
   "outputs": [],
   "source": [
    "accuracy = tf.reduce_mean(tf.cast(correct_prediction, tf.float32))"
   ]
  },
  {
   "cell_type": "markdown",
   "metadata": {},
   "source": [
    "That gives us a list of booleans. To determine what fraction are correct, we cast to floating point numbers and then take the mean. For example, [True, False, True, True] would become [1,0,1,1] which would become 0.75.\n",
    "\n"
   ]
  },
  {
   "cell_type": "code",
   "execution_count": 16,
   "metadata": {
    "collapsed": false,
    "nbpresent": {
     "id": "a0e77245-e96d-4f13-83b1-e2b76d8095f0"
    }
   },
   "outputs": [
    {
     "name": "stdout",
     "output_type": "stream",
     "text": [
      "0.9213\n"
     ]
    }
   ],
   "source": [
    "print(sess.run(accuracy, feed_dict={x: mnist.test.images, y_: mnist.test.labels}))"
   ]
  },
  {
   "cell_type": "markdown",
   "metadata": {
    "nbpresent": {
     "id": "9a8b6f0f-2b44-4381-8a9f-d82222f4e591"
    }
   },
   "source": [
    "The best models can get to over 99.7% accuracy! (For more information, have a look at this <a href=\"http://rodrigob.github.io/are_we_there_yet/build/classification_datasets_results.html\">list of results.</a>)"
   ]
  },
  {
   "cell_type": "markdown",
   "metadata": {},
   "source": [
    "## Regularization"
   ]
  },
  {
   "cell_type": "code",
   "execution_count": 29,
   "metadata": {
    "collapsed": true
   },
   "outputs": [],
   "source": [
    "beta = 0.01"
   ]
  },
  {
   "cell_type": "code",
   "execution_count": 18,
   "metadata": {
    "collapsed": true
   },
   "outputs": [],
   "source": [
    "cross_entropy = tf.reduce_mean(-tf.reduce_sum(y_ * tf.log(y), reduction_indices=[1]))"
   ]
  },
  {
   "cell_type": "code",
   "execution_count": null,
   "metadata": {
    "collapsed": true
   },
   "outputs": [],
   "source": []
  },
  {
   "cell_type": "code",
   "execution_count": 19,
   "metadata": {
    "collapsed": true
   },
   "outputs": [],
   "source": [
    "regularizer = tf.nn.l2_loss(W)\n",
    "regularized_loss = tf.reduce_mean(cross_entropy + beta * regularizer)"
   ]
  },
  {
   "cell_type": "code",
   "execution_count": 20,
   "metadata": {
    "collapsed": true
   },
   "outputs": [],
   "source": [
    "train_step = tf.train.GradientDescentOptimizer(0.5).minimize(regularized_loss)"
   ]
  },
  {
   "cell_type": "code",
   "execution_count": 26,
   "metadata": {
    "collapsed": true
   },
   "outputs": [],
   "source": [
    "num_iter = 2000\n",
    "batch_size = 1000"
   ]
  },
  {
   "cell_type": "code",
   "execution_count": 27,
   "metadata": {
    "collapsed": false
   },
   "outputs": [],
   "source": [
    "for _ in range(num_iter):\n",
    "  batch_xs, batch_ys = mnist.train.next_batch(batch_size)\n",
    "  sess.run(train_step, feed_dict={x: batch_xs, y_: batch_ys})"
   ]
  },
  {
   "cell_type": "code",
   "execution_count": 23,
   "metadata": {
    "collapsed": true
   },
   "outputs": [],
   "source": [
    "correct_prediction = tf.equal(tf.argmax(y,1), tf.argmax(y_,1))"
   ]
  },
  {
   "cell_type": "code",
   "execution_count": 24,
   "metadata": {
    "collapsed": true
   },
   "outputs": [],
   "source": [
    "accuracy = tf.reduce_mean(tf.cast(correct_prediction, tf.float32))"
   ]
  },
  {
   "cell_type": "code",
   "execution_count": 25,
   "metadata": {
    "collapsed": false
   },
   "outputs": [
    {
     "name": "stdout",
     "output_type": "stream",
     "text": [
      "0.9059\n"
     ]
    }
   ],
   "source": [
    "print(sess.run(accuracy, feed_dict={x: mnist.test.images, y_: mnist.test.labels}))"
   ]
  },
  {
   "cell_type": "code",
   "execution_count": null,
   "metadata": {
    "collapsed": true
   },
   "outputs": [],
   "source": []
  }
 ],
 "metadata": {
  "anaconda-cloud": {},
  "kernelspec": {
   "display_name": "Python [tensorenv]",
   "language": "python",
   "name": "Python [tensorenv]"
  },
  "language_info": {
   "codemirror_mode": {
    "name": "ipython",
    "version": 3
   },
   "file_extension": ".py",
   "mimetype": "text/x-python",
   "name": "python",
   "nbconvert_exporter": "python",
   "pygments_lexer": "ipython3",
   "version": "3.5.2"
  },
  "nbpresent": {
   "slides": {
    "0097895d-f6c8-4c04-a169-89b49e6d2ec4": {
     "id": "0097895d-f6c8-4c04-a169-89b49e6d2ec4",
     "prev": "c5f3ca0a-4e89-4bc9-94a1-2191fc80a7a0",
     "regions": {
      "736dc3a4-5c02-464f-8db8-5850d5319acf": {
       "attrs": {
        "height": 0.8,
        "width": 0.8,
        "x": 0.1,
        "y": 0.1
       },
       "content": {
        "cell": "a345cb30-efd1-42a8-ac6c-0aad3e5701ea",
        "part": "whole"
       },
       "id": "736dc3a4-5c02-464f-8db8-5850d5319acf"
      }
     }
    },
    "059b7987-14d5-4592-8dce-c00707ab1da6": {
     "id": "059b7987-14d5-4592-8dce-c00707ab1da6",
     "prev": "c9db23ce-a1d2-4e71-8cac-4d895f2b7a51",
     "regions": {
      "6710bbf8-97b9-4134-bd6d-57a4aa3a1ef5": {
       "attrs": {
        "height": 0.8,
        "width": 0.8,
        "x": 0.1,
        "y": 0.1
       },
       "content": {
        "cell": "d360bf4c-f791-4fae-8983-647ddf29fc98",
        "part": "whole"
       },
       "id": "6710bbf8-97b9-4134-bd6d-57a4aa3a1ef5"
      }
     }
    },
    "14f95472-3aad-472a-b83f-c497027f79ea": {
     "id": "14f95472-3aad-472a-b83f-c497027f79ea",
     "prev": "23abcdb2-43c5-4ef5-a9a0-e353fed7bee4",
     "regions": {
      "2d8d1cc9-88f4-4cbf-8a6c-37df87cbd01f": {
       "attrs": {
        "height": 0.8,
        "width": 0.8,
        "x": 0.1,
        "y": 0.1
       },
       "content": {
        "cell": "1f206eab-cd60-43e9-a368-a7cc97b35b85",
        "part": "whole"
       },
       "id": "2d8d1cc9-88f4-4cbf-8a6c-37df87cbd01f"
      }
     }
    },
    "23abcdb2-43c5-4ef5-a9a0-e353fed7bee4": {
     "id": "23abcdb2-43c5-4ef5-a9a0-e353fed7bee4",
     "prev": "404c1f6c-d0d2-442b-8b68-35610626423e",
     "regions": {
      "58656a7e-0847-4090-9b90-64f5a11d8e81": {
       "attrs": {
        "height": 0.8,
        "width": 0.8,
        "x": 0.1,
        "y": 0.1
       },
       "content": {
        "cell": "5e29e9fb-53ac-4deb-9245-3f0c1a70ee08",
        "part": "whole"
       },
       "id": "58656a7e-0847-4090-9b90-64f5a11d8e81"
      }
     }
    },
    "354d535c-3ee7-49e0-a012-09ddd9ddd646": {
     "id": "354d535c-3ee7-49e0-a012-09ddd9ddd646",
     "prev": "14f95472-3aad-472a-b83f-c497027f79ea",
     "regions": {
      "bdbd6f84-a615-4175-a411-294e50942a95": {
       "attrs": {
        "height": 0.8,
        "width": 0.8,
        "x": 0.1,
        "y": 0.1
       },
       "content": {
        "cell": "c631bc59-11b0-4ed2-a17a-92257e5025b3",
        "part": "whole"
       },
       "id": "bdbd6f84-a615-4175-a411-294e50942a95"
      }
     }
    },
    "3b09be14-0517-48d7-8bfb-ff8006d63323": {
     "id": "3b09be14-0517-48d7-8bfb-ff8006d63323",
     "prev": "f38cbf0e-5ef7-411d-9369-019ea4408273",
     "regions": {
      "8cc9f9ab-b0df-46e2-8e91-ad07e056efec": {
       "attrs": {
        "height": 0.8,
        "width": 0.8,
        "x": 0.1,
        "y": 0.1
       },
       "content": {
        "cell": "e01d4382-a4b3-4479-8b1b-e8b884aa3045",
        "part": "whole"
       },
       "id": "8cc9f9ab-b0df-46e2-8e91-ad07e056efec"
      }
     }
    },
    "404c1f6c-d0d2-442b-8b68-35610626423e": {
     "id": "404c1f6c-d0d2-442b-8b68-35610626423e",
     "prev": "c997cd18-1dae-45c1-b1bb-32220609a470",
     "regions": {
      "b8870b1a-0e9c-427b-8e16-e00e11630ea3": {
       "attrs": {
        "height": 0.8,
        "width": 0.8,
        "x": 0.1,
        "y": 0.1
       },
       "content": {
        "cell": "8a6598ba-27a9-49e7-b55d-7850cfdae3cc",
        "part": "whole"
       },
       "id": "b8870b1a-0e9c-427b-8e16-e00e11630ea3"
      }
     }
    },
    "7179ab89-904c-4d2f-a6f1-4d47fdb72c2b": {
     "id": "7179ab89-904c-4d2f-a6f1-4d47fdb72c2b",
     "prev": "b17137d8-ce88-4a4e-b955-26d91ad2e838",
     "regions": {
      "b331dbd8-4bac-4e00-be17-72a1b3ed9f95": {
       "attrs": {
        "height": 0.8,
        "width": 0.8,
        "x": 0.1,
        "y": 0.1
       },
       "content": {
        "cell": "c770c081-2b75-40b4-a249-f3c082afe3d6",
        "part": "whole"
       },
       "id": "b331dbd8-4bac-4e00-be17-72a1b3ed9f95"
      }
     }
    },
    "941e0fc1-d014-4816-b8cf-a7b9e85f52c7": {
     "id": "941e0fc1-d014-4816-b8cf-a7b9e85f52c7",
     "prev": "debcc315-99c3-4b45-97ea-f92e957ddd79",
     "regions": {
      "8088451e-95e3-419f-9161-6ab0d9e7517b": {
       "attrs": {
        "height": 0.8,
        "width": 0.8,
        "x": 0.1,
        "y": 0.1
       },
       "content": {
        "cell": "a0e77245-e96d-4f13-83b1-e2b76d8095f0",
        "part": "whole"
       },
       "id": "8088451e-95e3-419f-9161-6ab0d9e7517b"
      }
     }
    },
    "94584af1-f4a6-4000-a4af-8ca8162b9c92": {
     "id": "94584af1-f4a6-4000-a4af-8ca8162b9c92",
     "prev": "b60bd3cd-dc92-44ad-81f9-5b96136ea489",
     "regions": {
      "99815b13-18dd-4469-b4e1-5e47233420a8": {
       "attrs": {
        "height": 0.8,
        "width": 0.8,
        "x": 0.1,
        "y": 0.1
       },
       "content": {
        "cell": "0e06ec02-7c59-41c0-bdf4-781ce8d222b4",
        "part": "whole"
       },
       "id": "99815b13-18dd-4469-b4e1-5e47233420a8"
      }
     }
    },
    "b17137d8-ce88-4a4e-b955-26d91ad2e838": {
     "id": "b17137d8-ce88-4a4e-b955-26d91ad2e838",
     "prev": null,
     "regions": {
      "a9e05ead-3833-4948-bd6a-9c658406e118": {
       "attrs": {
        "height": 0.8,
        "width": 0.8,
        "x": 0.1,
        "y": 0.1
       },
       "content": {
        "cell": "a96ca04a-864e-48f0-98de-5b7450b55de5",
        "part": "whole"
       },
       "id": "a9e05ead-3833-4948-bd6a-9c658406e118"
      }
     }
    },
    "b60bd3cd-dc92-44ad-81f9-5b96136ea489": {
     "id": "b60bd3cd-dc92-44ad-81f9-5b96136ea489",
     "prev": "354d535c-3ee7-49e0-a012-09ddd9ddd646",
     "regions": {
      "f3eaf00f-2523-4957-84a9-adf996488cb2": {
       "attrs": {
        "height": 0.8,
        "width": 0.8,
        "x": 0.1,
        "y": 0.1
       },
       "content": {
        "cell": "0b4d037e-9aa1-4663-a40c-4c6342f6cbe4",
        "part": "whole"
       },
       "id": "f3eaf00f-2523-4957-84a9-adf996488cb2"
      }
     }
    },
    "bbafa80c-2bf4-4a19-bef5-bc35478b43fe": {
     "id": "bbafa80c-2bf4-4a19-bef5-bc35478b43fe",
     "prev": "df60f92c-b44e-44c7-8c84-a4a306b1876d",
     "regions": {
      "7af65841-3ca8-405b-ac1d-f36736b1e5aa": {
       "attrs": {
        "height": 0.8,
        "width": 0.8,
        "x": 0.1,
        "y": 0.1
       },
       "content": {
        "cell": "7480bb8d-1d1a-4f8a-9659-11a8f3be1b1f",
        "part": "whole"
       },
       "id": "7af65841-3ca8-405b-ac1d-f36736b1e5aa"
      }
     }
    },
    "c15f3fcd-30c6-4560-b25f-4edaf979eb7d": {
     "id": "c15f3fcd-30c6-4560-b25f-4edaf979eb7d",
     "prev": "7179ab89-904c-4d2f-a6f1-4d47fdb72c2b",
     "regions": {
      "2c9d1bf8-e98b-4587-b77f-2d05f19859c9": {
       "attrs": {
        "height": 0.8,
        "width": 0.8,
        "x": 0.1,
        "y": 0.1
       },
       "content": {
        "cell": "50f25c85-3570-4c80-9245-d3d4d15b4bc4",
        "part": "whole"
       },
       "id": "2c9d1bf8-e98b-4587-b77f-2d05f19859c9"
      }
     }
    },
    "c5f3ca0a-4e89-4bc9-94a1-2191fc80a7a0": {
     "id": "c5f3ca0a-4e89-4bc9-94a1-2191fc80a7a0",
     "prev": "059b7987-14d5-4592-8dce-c00707ab1da6",
     "regions": {
      "40176046-be45-430c-a0dc-f3f1f4836f0e": {
       "attrs": {
        "height": 0.8,
        "width": 0.8,
        "x": 0.1,
        "y": 0.1
       },
       "content": {
        "cell": "67c4d87c-6471-497f-867d-897508a18b33",
        "part": "whole"
       },
       "id": "40176046-be45-430c-a0dc-f3f1f4836f0e"
      }
     }
    },
    "c6830380-a926-4c74-9570-1b0819f877c5": {
     "id": "c6830380-a926-4c74-9570-1b0819f877c5",
     "prev": "c15f3fcd-30c6-4560-b25f-4edaf979eb7d",
     "regions": {
      "8f4ca54c-0940-4c7c-966f-f6437bc17575": {
       "attrs": {
        "height": 0.8,
        "width": 0.8,
        "x": 0.1,
        "y": 0.1
       },
       "content": {
        "cell": "cf6dea09-acc1-4ea7-b651-d4039c919544",
        "part": "whole"
       },
       "id": "8f4ca54c-0940-4c7c-966f-f6437bc17575"
      }
     }
    },
    "c997cd18-1dae-45c1-b1bb-32220609a470": {
     "id": "c997cd18-1dae-45c1-b1bb-32220609a470",
     "prev": "3b09be14-0517-48d7-8bfb-ff8006d63323",
     "regions": {
      "16d76ab5-9359-455a-8cc0-bf37cfe29d46": {
       "attrs": {
        "height": 0.8,
        "width": 0.8,
        "x": 0.1,
        "y": 0.1
       },
       "content": {
        "cell": "f22b0abe-5c9b-405c-a94e-06898ae3037b",
        "part": "whole"
       },
       "id": "16d76ab5-9359-455a-8cc0-bf37cfe29d46"
      }
     }
    },
    "c9db23ce-a1d2-4e71-8cac-4d895f2b7a51": {
     "id": "c9db23ce-a1d2-4e71-8cac-4d895f2b7a51",
     "prev": "c6830380-a926-4c74-9570-1b0819f877c5",
     "regions": {
      "6c8a2e04-392a-439b-891e-0283184d30d1": {
       "attrs": {
        "height": 0.8,
        "width": 0.8,
        "x": 0.1,
        "y": 0.1
       },
       "content": {
        "cell": "71e1b38c-d6b4-4b42-9196-8e9fe3a7ebd3",
        "part": "whole"
       },
       "id": "6c8a2e04-392a-439b-891e-0283184d30d1"
      }
     }
    },
    "dabd99e7-e9d0-4b12-826b-1268056c6894": {
     "id": "dabd99e7-e9d0-4b12-826b-1268056c6894",
     "prev": "941e0fc1-d014-4816-b8cf-a7b9e85f52c7",
     "regions": {
      "3a13ba30-118d-4fcc-96f5-d8fcb41cf037": {
       "attrs": {
        "height": 0.8,
        "width": 0.8,
        "x": 0.1,
        "y": 0.1
       },
       "content": {
        "cell": "9a8b6f0f-2b44-4381-8a9f-d82222f4e591",
        "part": "whole"
       },
       "id": "3a13ba30-118d-4fcc-96f5-d8fcb41cf037"
      }
     }
    },
    "dbfb7783-f9b2-44ea-8a9f-ec27e0087a83": {
     "id": "dbfb7783-f9b2-44ea-8a9f-ec27e0087a83",
     "prev": "0097895d-f6c8-4c04-a169-89b49e6d2ec4",
     "regions": {
      "98c336ca-9b10-4504-8142-02c6f5b5926a": {
       "attrs": {
        "height": 0.8,
        "width": 0.8,
        "x": 0.1,
        "y": 0.1
       },
       "content": {
        "cell": "7d3f9080-ab42-46f5-8032-1fbcd5f7e743",
        "part": "whole"
       },
       "id": "98c336ca-9b10-4504-8142-02c6f5b5926a"
      }
     }
    },
    "debcc315-99c3-4b45-97ea-f92e957ddd79": {
     "id": "debcc315-99c3-4b45-97ea-f92e957ddd79",
     "prev": "bbafa80c-2bf4-4a19-bef5-bc35478b43fe",
     "regions": {
      "b6088115-aa07-4bd0-a2f6-10d355c67748": {
       "attrs": {
        "height": 0.8,
        "width": 0.8,
        "x": 0.1,
        "y": 0.1
       },
       "content": {
        "cell": "71d8d4fd-774b-406c-9236-b75b4c526fe3",
        "part": "whole"
       },
       "id": "b6088115-aa07-4bd0-a2f6-10d355c67748"
      }
     }
    },
    "df60f92c-b44e-44c7-8c84-a4a306b1876d": {
     "id": "df60f92c-b44e-44c7-8c84-a4a306b1876d",
     "prev": "94584af1-f4a6-4000-a4af-8ca8162b9c92",
     "regions": {
      "c6f88369-8654-4490-be84-16a5f9d8933e": {
       "attrs": {
        "height": 0.8,
        "width": 0.8,
        "x": 0.1,
        "y": 0.1
       },
       "content": {
        "cell": "09fd18ff-489f-429b-a7d1-d84485b31d70",
        "part": "whole"
       },
       "id": "c6f88369-8654-4490-be84-16a5f9d8933e"
      }
     }
    },
    "efbd1152-6d50-4b7a-9de8-940500016273": {
     "id": "efbd1152-6d50-4b7a-9de8-940500016273",
     "prev": "dabd99e7-e9d0-4b12-826b-1268056c6894",
     "regions": {
      "65796975-552e-4894-a10c-9c8f1a8105c3": {
       "attrs": {
        "height": 0.8,
        "width": 0.8,
        "x": 0.1,
        "y": 0.1
       },
       "content": {
        "cell": "c63dec9c-7e23-4c0a-a1d9-89b4c830ec62",
        "part": "whole"
       },
       "id": "65796975-552e-4894-a10c-9c8f1a8105c3"
      }
     }
    },
    "f38cbf0e-5ef7-411d-9369-019ea4408273": {
     "id": "f38cbf0e-5ef7-411d-9369-019ea4408273",
     "prev": "dbfb7783-f9b2-44ea-8a9f-ec27e0087a83",
     "regions": {
      "ac7f232a-d603-4492-954a-a11371bd4612": {
       "attrs": {
        "height": 0.8,
        "width": 0.8,
        "x": 0.1,
        "y": 0.1
       },
       "content": {
        "cell": "b7253a69-fcd2-4be7-a639-58136f918e8d",
        "part": "whole"
       },
       "id": "ac7f232a-d603-4492-954a-a11371bd4612"
      }
     }
    }
   },
   "themes": {
    "default": "8f31bd72-5aef-43a9-9af1-3ac62f97420a",
    "theme": {}
   }
  }
 },
 "nbformat": 4,
 "nbformat_minor": 0
}
